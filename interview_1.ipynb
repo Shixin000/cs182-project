{
  "nbformat": 4,
  "nbformat_minor": 0,
  "metadata": {
    "colab": {
      "name": "interview 1.ipynb",
      "provenance": [],
      "collapsed_sections": [],
      "authorship_tag": "ABX9TyNQKxBeDgQLieOsmhDQ4O04",
      "include_colab_link": true
    },
    "kernelspec": {
      "name": "python3",
      "display_name": "Python 3"
    }
  },
  "cells": [
    {
      "cell_type": "markdown",
      "metadata": {
        "id": "view-in-github",
        "colab_type": "text"
      },
      "source": [
        "<a href=\"https://colab.research.google.com/github/Shixin000/cs182-project/blob/master/interview_1.ipynb\" target=\"_parent\"><img src=\"https://colab.research.google.com/assets/colab-badge.svg\" alt=\"Open In Colab\"/></a>"
      ]
    },
    {
      "cell_type": "markdown",
      "metadata": {
        "id": "NBsmkQE1BRRC"
      },
      "source": [
        "# 1. Read rows and columns (cols) as integer arguments from the command line.\n",
        "\n",
        "* Suppose I have the script in python called script.py\n",
        "\n",
        "* And you are running the script from the terminal by passing the command line: \n",
        "  $\\$python \\ \\ script.py \\ \\ 512 \\ \\ 128$  (suppose 512 is the number of rows, and 128 is columns)"
      ]
    },
    {
      "cell_type": "code",
      "metadata": {
        "id": "mPocujjmBNoQ"
      },
      "source": [
        "# Access the command-line arguments \n",
        "import sys\n",
        "\n",
        "arguments = sys.argv # arguments = ['script.py', '512', '128']\n",
        "\n",
        "# Get the number of rows and columns from arguments\n",
        "rows = int(arguments[1])\n",
        "cols = int(arguments[2])"
      ],
      "execution_count": 102,
      "outputs": []
    },
    {
      "cell_type": "markdown",
      "metadata": {
        "id": "-lPkSoinU7-c"
      },
      "source": [
        "# 2. Create an unsigned char matrix M of size [rows x cols]"
      ]
    },
    {
      "cell_type": "code",
      "metadata": {
        "id": "A0LHU8p_VXy2"
      },
      "source": [
        "import numpy as np"
      ],
      "execution_count": 168,
      "outputs": []
    },
    {
      "cell_type": "code",
      "metadata": {
        "id": "vFf2x5T2_1Ec"
      },
      "source": [
        "#Suppose the rows and columns numbers are 256 and 128 \n",
        "rows = 512\n",
        "cols = 128"
      ],
      "execution_count": 169,
      "outputs": []
    },
    {
      "cell_type": "code",
      "metadata": {
        "id": "4azmOB3sVRNF",
        "outputId": "c8a04d8c-7f8f-4c14-f7f3-cbba13720197",
        "colab": {
          "base_uri": "https://localhost:8080/",
          "height": 136
        }
      },
      "source": [
        "M = np.full(shape = (rows,cols),dtype=np.ubyte, fill_value=np.nan)\n",
        "M"
      ],
      "execution_count": 170,
      "outputs": [
        {
          "output_type": "execute_result",
          "data": {
            "text/plain": [
              "array([[0, 0, 0, ..., 0, 0, 0],\n",
              "       [0, 0, 0, ..., 0, 0, 0],\n",
              "       [0, 0, 0, ..., 0, 0, 0],\n",
              "       ...,\n",
              "       [0, 0, 0, ..., 0, 0, 0],\n",
              "       [0, 0, 0, ..., 0, 0, 0],\n",
              "       [0, 0, 0, ..., 0, 0, 0]], dtype=uint8)"
            ]
          },
          "metadata": {
            "tags": []
          },
          "execution_count": 170
        }
      ]
    },
    {
      "cell_type": "markdown",
      "metadata": {
        "id": "Y2_JLWv1MIn3"
      },
      "source": [
        "# 3. Fill M with randomly selected non-negative integers."
      ]
    },
    {
      "cell_type": "code",
      "metadata": {
        "id": "y2-hDmvlMKr1"
      },
      "source": [
        "min = 0\n",
        "max = 255*10+1\n",
        "\n",
        "for i in range(rows):\n",
        "  for j in range(cols): \n",
        "    M[i,j] = np.random.randint(min, max, dtype=int)"
      ],
      "execution_count": 188,
      "outputs": []
    },
    {
      "cell_type": "code",
      "metadata": {
        "id": "UdioeAkZVoFN",
        "outputId": "e58904c4-99a2-4b70-dcdc-b61fd41ad80e",
        "colab": {
          "base_uri": "https://localhost:8080/",
          "height": 136
        }
      },
      "source": [
        "# all numbers in matrix M are unsigned char (in range 0-255)\n",
        "M"
      ],
      "execution_count": 209,
      "outputs": [
        {
          "output_type": "execute_result",
          "data": {
            "text/plain": [
              "array([[ 42, 153, 250, ..., 125,  63,  25],\n",
              "       [196, 229, 135, ..., 172, 209,  19],\n",
              "       [233,  32, 170, ..., 229, 134,  59],\n",
              "       ...,\n",
              "       [ 42, 214, 114, ...,  98, 115, 191],\n",
              "       [204, 123, 244, ..., 172,  80,  68],\n",
              "       [158, 120, 174, ...,  58,   7, 191]], dtype=uint8)"
            ]
          },
          "metadata": {
            "tags": []
          },
          "execution_count": 209
        }
      ]
    },
    {
      "cell_type": "markdown",
      "metadata": {
        "id": "VyVfP2vWhAym"
      },
      "source": [
        "# 4,5,6. Apply the filter K=[-1, 0, 1] along the rows axis as Dx, the cols axis as Dy, and print the total time taken by the machine in computing Dx and Dy matrices."
      ]
    },
    {
      "cell_type": "code",
      "metadata": {
        "id": "JLDwhlMS0Zug"
      },
      "source": [
        "import time"
      ],
      "execution_count": 210,
      "outputs": []
    },
    {
      "cell_type": "code",
      "metadata": {
        "id": "UhZK1W8xg9If"
      },
      "source": [
        "K = np.array([-1,0,1])"
      ],
      "execution_count": 211,
      "outputs": []
    },
    {
      "cell_type": "code",
      "metadata": {
        "id": "gHVO-7KohkoV"
      },
      "source": [
        "#Build the convolution function\n",
        "\n",
        "def convo(m, k):\n",
        "  \"\"\"\n",
        "  m : matrix with shape rows*cols\n",
        "  k : the filter\n",
        "  \"\"\"\n",
        "  rows, cols = m.shape\n",
        "\n",
        "  # initialize the output unsigned char matrix\n",
        "  D = np.full(shape = (rows,cols-len(k)+1),dtype=np.ubyte, fill_value=np.nan)\n",
        "\n",
        "  for i in range(rows):\n",
        "    for j in range(cols-len(k)+1):\n",
        "      matrix_slice = m[i,j:j+3]\n",
        "      D[i, j] = np.dot(matrix_slice, k)\n",
        "  end = time.time()\n",
        "  return D"
      ],
      "execution_count": 212,
      "outputs": []
    },
    {
      "cell_type": "code",
      "metadata": {
        "id": "94KkjnYa24uy",
        "outputId": "b12df158-0fe8-4388-d69e-cf3aed826aaa",
        "colab": {
          "base_uri": "https://localhost:8080/",
          "height": 34
        }
      },
      "source": [
        "start = time.time()\n",
        "Dx = convo(M,K)\n",
        "#To apply the filter to the cols axis, pass the transpose of the matrix M,\n",
        "#then Dy will be the transpose of the output matrix\n",
        "Dy = convo(M.T, K).T\n",
        "end = time.time()\n",
        "print(f\"Runtime of computing these two matrix with shape {Dx.shape} is {end - start}\")"
      ],
      "execution_count": 226,
      "outputs": [
        {
          "output_type": "stream",
          "text": [
            "Runtime of computing these two matrix with shape (512, 126) is 0.256819486618042\n"
          ],
          "name": "stdout"
        }
      ]
    },
    {
      "cell_type": "code",
      "metadata": {
        "id": "v68bgWrLmbLz",
        "outputId": "a5c181a0-1fdb-4356-d088-8dba9217c7cb",
        "colab": {
          "base_uri": "https://localhost:8080/",
          "height": 136
        }
      },
      "source": [
        "# all numbers in matrix Dx are unsigned char (in range 0-255)\n",
        "Dx"
      ],
      "execution_count": 227,
      "outputs": [
        {
          "output_type": "execute_result",
          "data": {
            "text/plain": [
              "array([[208,  53, 139, ..., 106,  33, 156],\n",
              "       [195, 230, 249, ...,  55, 230, 103],\n",
              "       [193, 171,  51, ...,  98,  32,  86],\n",
              "       ...,\n",
              "       [ 72, 183,  76, ..., 202,  18,  93],\n",
              "       [ 40, 142,  92, ...,  24, 181, 152],\n",
              "       [ 16,  50,  12, ..., 135,  33, 133]], dtype=uint8)"
            ]
          },
          "metadata": {
            "tags": []
          },
          "execution_count": 227
        }
      ]
    },
    {
      "cell_type": "code",
      "metadata": {
        "id": "dDT2kSnqzNpS",
        "outputId": "b3101ad3-82d9-46e4-8705-41548e668868",
        "colab": {
          "base_uri": "https://localhost:8080/",
          "height": 136
        }
      },
      "source": [
        "Dy"
      ],
      "execution_count": 228,
      "outputs": [
        {
          "output_type": "execute_result",
          "data": {
            "text/plain": [
              "array([[191, 135, 176, ..., 104,  71,  34],\n",
              "       [241, 118, 187, ...,  58,  46, 163],\n",
              "       [249, 115,  94, ..., 247, 125, 171],\n",
              "       ...,\n",
              "       [ 56, 118, 136, ..., 183, 246, 181],\n",
              "       [ 22,  19, 156, ..., 230, 165,  48],\n",
              "       [116, 162,  60, ..., 216, 148,   0]], dtype=uint8)"
            ]
          },
          "metadata": {
            "tags": []
          },
          "execution_count": 228
        }
      ]
    },
    {
      "cell_type": "markdown",
      "metadata": {
        "id": "NXAmCiim2T_W"
      },
      "source": [
        "# 7. Compute the min and max values for both Dx & Dy matrices individually (and in separate functions from the above computation of Dx and Dy). Print the computed min & max values."
      ]
    },
    {
      "cell_type": "code",
      "metadata": {
        "id": "obUWtM466ci1",
        "outputId": "f2642fca-a5d3-45b3-85e9-c240e044f801",
        "colab": {
          "base_uri": "https://localhost:8080/",
          "height": 34
        }
      },
      "source": [
        "Dx_max = np.max(Dx)\n",
        "Dx_min = np.min(Dx)\n",
        "Dx_max, Dx_min\n",
        "\n",
        "print(f\"The maximun and minimum value of matrix Dx is {Dx_max} and {Dx_min}\")"
      ],
      "execution_count": 231,
      "outputs": [
        {
          "output_type": "stream",
          "text": [
            "The maximun and minimum value of matrix Dx is 255 and 0\n"
          ],
          "name": "stdout"
        }
      ]
    },
    {
      "cell_type": "code",
      "metadata": {
        "id": "BrSS2yas2TNl",
        "outputId": "a0528fb6-e15a-4fd7-c1e3-c47e273e102d",
        "colab": {
          "base_uri": "https://localhost:8080/",
          "height": 34
        }
      },
      "source": [
        "Dy_max = np.max(Dy)\n",
        "Dy_min = np.min(Dy)\n",
        "Dy_max, Dy_min\n",
        "\n",
        "print(f\"The maximun and minimum value of matrix Dy is {Dy_max} and {Dy_min}\")"
      ],
      "execution_count": 232,
      "outputs": [
        {
          "output_type": "stream",
          "text": [
            "The maximun and minimum value of matrix Dy is 255 and 0\n"
          ],
          "name": "stdout"
        }
      ]
    }
  ]
}